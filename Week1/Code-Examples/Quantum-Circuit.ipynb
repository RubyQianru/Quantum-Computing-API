{
 "cells": [
  {
   "cell_type": "markdown",
   "metadata": {},
   "source": [
    "\n",
    "### Creating circuits with Qiskit\n",
    "Refer to [Atoms of Computation](https://github.com/Qiskit/textbook/blob/main/notebooks/intro/atoms-of-computation.ipynb) for the complete setup and walkthrough."
   ]
  },
  {
   "cell_type": "markdown",
   "metadata": {},
   "source": [
    "First thing first, we need to use pip to install required packages in order to use qiskit."
   ]
  },
  {
   "cell_type": "code",
   "execution_count": null,
   "metadata": {},
   "outputs": [],
   "source": [
    "%pip install qiskit --user\n",
    "%pip install qiskit-ibm-runtime --user\n",
    "# Install qiskit and qiskit-ibm-runtime in our environment"
   ]
  },
  {
   "cell_type": "markdown",
   "metadata": {},
   "source": [
    "### Your first quantum circuit\n",
    "\n",
    "In a circuit, we typically need to do three jobs: First, encode the input, then do some actual computation, and finally extract an output. For your first quantum circuit, we'll focus on the last of these jobs. We start by creating a quantum circuit with 3 qubits and 3 outputs."
   ]
  },
  {
   "cell_type": "code",
   "execution_count": 8,
   "metadata": {},
   "outputs": [
    {
     "data": {
      "text/html": [
       "<pre style=\"word-wrap: normal;white-space: pre;background: #fff0;line-height: 1.1;font-family: &quot;Courier New&quot;,Courier,monospace\">     \n",
       "q_0: \n",
       "     \n",
       "q_1: \n",
       "     \n",
       "q_2: \n",
       "     \n",
       "c: 3/\n",
       "     </pre>"
      ],
      "text/plain": [
       "     \n",
       "q_0: \n",
       "     \n",
       "q_1: \n",
       "     \n",
       "q_2: \n",
       "     \n",
       "c: 3/\n",
       "     "
      ]
     },
     "execution_count": 8,
     "metadata": {},
     "output_type": "execute_result"
    }
   ],
   "source": [
    "from qiskit import QuantumCircuit\n",
    "# Create quantum circuit with 3 qubits and 3 classical bits\n",
    "# (we'll explain why we need the classical bits later)\n",
    "qc = QuantumCircuit(3, 3)\n",
    "qc.draw()  # returns a drawing of the circuit"
   ]
  },
  {
   "cell_type": "markdown",
   "metadata": {},
   "source": [
    "Next, we need a way to tell our quantum computer to measure our qubits and record the results. To do this, we add a \"measure\" operation to our quantum circuit. We can do this with the QuantumCircuit's .measure() method."
   ]
  },
  {
   "cell_type": "code",
   "execution_count": 9,
   "metadata": {},
   "outputs": [
    {
     "data": {
      "text/html": [
       "<pre style=\"word-wrap: normal;white-space: pre;background: #fff0;line-height: 1.1;font-family: &quot;Courier New&quot;,Courier,monospace\">     ┌─┐      \n",
       "q_0: ┤M├──────\n",
       "     └╥┘┌─┐   \n",
       "q_1: ─╫─┤M├───\n",
       "      ║ └╥┘┌─┐\n",
       "q_2: ─╫──╫─┤M├\n",
       "      ║  ║ └╥┘\n",
       "c: 3/═╩══╩══╩═\n",
       "      0  1  2 </pre>"
      ],
      "text/plain": [
       "     ┌─┐      \n",
       "q_0: ┤M├──────\n",
       "     └╥┘┌─┐   \n",
       "q_1: ─╫─┤M├───\n",
       "      ║ └╥┘┌─┐\n",
       "q_2: ─╫──╫─┤M├\n",
       "      ║  ║ └╥┘\n",
       "c: 3/═╩══╩══╩═\n",
       "      0  1  2 "
      ]
     },
     "execution_count": 9,
     "metadata": {},
     "output_type": "execute_result"
    }
   ],
   "source": [
    "from qiskit import QuantumCircuit\n",
    "qc = QuantumCircuit(3, 3)\n",
    "# measure qubits 0, 1 & 2 to classical bits 0, 1 & 2 respectively\n",
    "qc.measure([0,1,2], [0,1,2])\n",
    "qc.draw()"
   ]
  },
  {
   "cell_type": "markdown",
   "metadata": {},
   "source": [
    "Next, let's see what the results of running this circuit would be. To do this, we'll use a quantum simulator, which is a standard computer calculating what an ideal quantum computer would do.\n",
    "\n",
    "Simulating a quantum computer is believed to be difficult for classical computers, as the best algorithms we have grow exponentially with the number of qubits. As such, these simulations are only possible for circuits with small numbers of qubits (up to ~30 qubits), or certain types of circuits for which we can use some tricks to speed up the simulation. Nevertheless, simulators are very useful tools for designing smaller quantum circuits.\n",
    "\n",
    "Let's import Qiskit’s simulator (called Aer), and make a new simulator object."
   ]
  },
  {
   "cell_type": "code",
   "execution_count": null,
   "metadata": {},
   "outputs": [],
   "source": [
    "%pip install qiskit_aer --user \n",
    "# Install Qiskit's imulator, Aer on our environment"
   ]
  },
  {
   "cell_type": "code",
   "execution_count": 10,
   "metadata": {},
   "outputs": [],
   "source": [
    "from qiskit_aer import AerSimulator  # pylint: disable=import-error, no-name-in-module\n",
    "sim = AerSimulator()  # make new simulator object called sim"
   ]
  },
  {
   "cell_type": "markdown",
   "metadata": {},
   "source": [
    "To do the simulation, we can use the simulator’s .run() method. This returns a \"job\", which contains information about the experiment, such as whether the experiment is running or completed, the backend it ran on, and (importantly for us), the results of the experiment.\n",
    "\n",
    "To get the results from the job, we use the results method, and the most popular way to view the results is as a dictionary of \"counts\"."
   ]
  },
  {
   "cell_type": "code",
   "execution_count": 11,
   "metadata": {},
   "outputs": [
    {
     "data": {
      "text/plain": [
       "{'000': 1024}"
      ]
     },
     "execution_count": 11,
     "metadata": {},
     "output_type": "execute_result"
    }
   ],
   "source": [
    "job = sim.run(qc)      # run the experiment\n",
    "result = job.result()  # get the results\n",
    "result.get_counts()    # interpret the results as a \"counts\" dictionary"
   ]
  }
 ],
 "metadata": {
  "kernelspec": {
   "display_name": "Python 3",
   "language": "python",
   "name": "python3"
  },
  "language_info": {
   "codemirror_mode": {
    "name": "ipython",
    "version": 3
   },
   "file_extension": ".py",
   "mimetype": "text/x-python",
   "name": "python",
   "nbconvert_exporter": "python",
   "pygments_lexer": "ipython3",
   "version": "3.10.7"
  }
 },
 "nbformat": 4,
 "nbformat_minor": 2
}
