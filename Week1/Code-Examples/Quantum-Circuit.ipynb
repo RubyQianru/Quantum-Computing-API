{
 "cells": [
  {
   "cell_type": "markdown",
   "metadata": {},
   "source": [
    "\n",
    "### Creating circuits with Qiskit\n",
    "\n",
    "First thing first, we need to use pip to install required packages in order to use qiskit."
   ]
  },
  {
   "cell_type": "code",
   "execution_count": 1,
   "metadata": {},
   "outputs": [
    {
     "name": "stdout",
     "output_type": "stream",
     "text": [
      "Collecting qiskit\n",
      "  Using cached qiskit-1.0.0-cp38-abi3-win_amd64.whl (4.1 MB)\n",
      "Requirement already satisfied: typing-extensions in c:\\users\\86139\\appdata\\roaming\\python\\python310\\site-packages (from qiskit) (4.9.0)\n",
      "Collecting symengine>=0.11\n",
      "  Downloading symengine-0.11.0-cp310-cp310-win_amd64.whl (16.7 MB)\n",
      "     --------------------------------------- 16.7/16.7 MB 11.7 MB/s eta 0:00:00\n",
      "Requirement already satisfied: python-dateutil>=2.8.0 in c:\\users\\86139\\appdata\\local\\programs\\python\\python310\\lib\\site-packages (from qiskit) (2.8.2)\n",
      "Collecting scipy>=1.5\n",
      "  Downloading scipy-1.12.0-cp310-cp310-win_amd64.whl (46.2 MB)\n",
      "     ---------------------------------------- 46.2/46.2 MB 5.3 MB/s eta 0:00:00\n",
      "Collecting rustworkx>=0.14.0\n",
      "  Downloading rustworkx-0.14.0-cp310-cp310-win_amd64.whl (1.6 MB)\n",
      "     ---------------------------------------- 1.6/1.6 MB 19.8 MB/s eta 0:00:00\n",
      "Requirement already satisfied: numpy<2,>=1.17 in c:\\users\\86139\\appdata\\local\\programs\\python\\python310\\lib\\site-packages (from qiskit) (1.23.5)\n",
      "Collecting stevedore>=3.0.0\n",
      "  Using cached stevedore-5.1.0-py3-none-any.whl (49 kB)\n",
      "Collecting sympy>=1.3\n",
      "  Using cached sympy-1.12-py3-none-any.whl (5.7 MB)\n",
      "Collecting dill>=0.3\n",
      "  Using cached dill-0.3.8-py3-none-any.whl (116 kB)\n",
      "Requirement already satisfied: six>=1.5 in c:\\users\\86139\\appdata\\local\\programs\\python\\python310\\lib\\site-packages (from python-dateutil>=2.8.0->qiskit) (1.16.0)\n",
      "Collecting pbr!=2.1.0,>=2.0.0\n",
      "  Using cached pbr-6.0.0-py2.py3-none-any.whl (107 kB)\n",
      "Collecting mpmath>=0.19\n",
      "  Using cached mpmath-1.3.0-py3-none-any.whl (536 kB)\n",
      "Installing collected packages: mpmath, sympy, symengine, scipy, rustworkx, pbr, dill, stevedore, qiskit\n",
      "Successfully installed dill-0.3.8 mpmath-1.3.0 pbr-6.0.0 qiskit-1.0.0 rustworkx-0.14.0 scipy-1.12.0 stevedore-5.1.0 symengine-0.11.0 sympy-1.12\n",
      "Note: you may need to restart the kernel to use updated packages.\n"
     ]
    },
    {
     "name": "stderr",
     "output_type": "stream",
     "text": [
      "\n",
      "[notice] A new release of pip available: 22.2.2 -> 24.0\n",
      "[notice] To update, run: python.exe -m pip install --upgrade pip\n"
     ]
    },
    {
     "name": "stdout",
     "output_type": "stream",
     "text": [
      "Collecting qiskit-ibm-runtime\n",
      "  Using cached qiskit_ibm_runtime-0.20.0-py3-none-any.whl (1.8 MB)\n",
      "Requirement already satisfied: qiskit>=0.45.0 in c:\\users\\86139\\appdata\\roaming\\python\\python310\\site-packages (from qiskit-ibm-runtime) (1.0.0)\n",
      "Requirement already satisfied: python-dateutil>=2.8.0 in c:\\users\\86139\\appdata\\local\\programs\\python\\python310\\lib\\site-packages (from qiskit-ibm-runtime) (2.8.2)\n",
      "Requirement already satisfied: urllib3>=1.21.1 in c:\\users\\86139\\appdata\\roaming\\python\\python310\\site-packages (from qiskit-ibm-runtime) (2.2.1)\n",
      "Collecting ibm-platform-services>=0.22.6\n",
      "  Using cached ibm-platform-services-0.51.0.tar.gz (315 kB)\n",
      "  Installing build dependencies: started\n",
      "  Installing build dependencies: finished with status 'done'\n",
      "  Getting requirements to build wheel: started\n",
      "  Getting requirements to build wheel: finished with status 'done'\n",
      "  Preparing metadata (pyproject.toml): started\n",
      "  Preparing metadata (pyproject.toml): finished with status 'done'\n",
      "Requirement already satisfied: numpy>=1.13 in c:\\users\\86139\\appdata\\local\\programs\\python\\python310\\lib\\site-packages (from qiskit-ibm-runtime) (1.23.5)\n",
      "Collecting requests-ntlm>=1.1.0\n",
      "  Using cached requests_ntlm-1.2.0-py3-none-any.whl (6.0 kB)\n",
      "Requirement already satisfied: requests>=2.19 in c:\\users\\86139\\appdata\\roaming\\python\\python310\\site-packages (from qiskit-ibm-runtime) (2.31.0)\n",
      "Collecting websocket-client>=1.5.1\n",
      "  Using cached websocket_client-1.7.0-py3-none-any.whl (58 kB)\n",
      "Collecting ibm-cloud-sdk-core<4.0.0,>=3.19.1\n",
      "  Using cached ibm-cloud-sdk-core-3.19.1.tar.gz (59 kB)\n",
      "  Installing build dependencies: started\n",
      "  Installing build dependencies: finished with status 'done'\n",
      "  Getting requirements to build wheel: started\n",
      "  Getting requirements to build wheel: finished with status 'done'\n",
      "  Preparing metadata (pyproject.toml): started\n",
      "  Preparing metadata (pyproject.toml): finished with status 'done'\n",
      "Requirement already satisfied: six>=1.5 in c:\\users\\86139\\appdata\\local\\programs\\python\\python310\\lib\\site-packages (from python-dateutil>=2.8.0->qiskit-ibm-runtime) (1.16.0)\n",
      "Requirement already satisfied: stevedore>=3.0.0 in c:\\users\\86139\\appdata\\roaming\\python\\python310\\site-packages (from qiskit>=0.45.0->qiskit-ibm-runtime) (5.1.0)\n",
      "Requirement already satisfied: scipy>=1.5 in c:\\users\\86139\\appdata\\roaming\\python\\python310\\site-packages (from qiskit>=0.45.0->qiskit-ibm-runtime) (1.12.0)\n",
      "Requirement already satisfied: dill>=0.3 in c:\\users\\86139\\appdata\\roaming\\python\\python310\\site-packages (from qiskit>=0.45.0->qiskit-ibm-runtime) (0.3.8)\n",
      "Requirement already satisfied: rustworkx>=0.14.0 in c:\\users\\86139\\appdata\\roaming\\python\\python310\\site-packages (from qiskit>=0.45.0->qiskit-ibm-runtime) (0.14.0)\n",
      "Requirement already satisfied: typing-extensions in c:\\users\\86139\\appdata\\roaming\\python\\python310\\site-packages (from qiskit>=0.45.0->qiskit-ibm-runtime) (4.9.0)\n",
      "Requirement already satisfied: symengine>=0.11 in c:\\users\\86139\\appdata\\roaming\\python\\python310\\site-packages (from qiskit>=0.45.0->qiskit-ibm-runtime) (0.11.0)\n",
      "Requirement already satisfied: sympy>=1.3 in c:\\users\\86139\\appdata\\roaming\\python\\python310\\site-packages (from qiskit>=0.45.0->qiskit-ibm-runtime) (1.12)\n",
      "Requirement already satisfied: certifi>=2017.4.17 in c:\\users\\86139\\appdata\\roaming\\python\\python310\\site-packages (from requests>=2.19->qiskit-ibm-runtime) (2024.2.2)\n",
      "Requirement already satisfied: idna<4,>=2.5 in c:\\users\\86139\\appdata\\roaming\\python\\python310\\site-packages (from requests>=2.19->qiskit-ibm-runtime) (3.6)\n",
      "Requirement already satisfied: charset-normalizer<4,>=2 in c:\\users\\86139\\appdata\\roaming\\python\\python310\\site-packages (from requests>=2.19->qiskit-ibm-runtime) (3.3.2)\n",
      "Collecting cryptography>=1.3\n",
      "  Using cached cryptography-42.0.4-cp39-abi3-win_amd64.whl (2.9 MB)\n",
      "Collecting pyspnego>=0.1.6\n",
      "  Using cached pyspnego-0.10.2-py3-none-any.whl (129 kB)\n",
      "Collecting cffi>=1.12\n",
      "  Downloading cffi-1.16.0-cp310-cp310-win_amd64.whl (181 kB)\n",
      "     -------------------------------------- 181.6/181.6 kB 5.4 MB/s eta 0:00:00\n",
      "Collecting PyJWT<3.0.0,>=2.8.0\n",
      "  Downloading PyJWT-2.8.0-py3-none-any.whl (22 kB)\n",
      "Collecting sspilib>=0.1.0\n",
      "  Downloading sspilib-0.1.0-cp310-cp310-win_amd64.whl (563 kB)\n",
      "     -------------------------------------- 563.8/563.8 kB 8.9 MB/s eta 0:00:00\n",
      "Requirement already satisfied: pbr!=2.1.0,>=2.0.0 in c:\\users\\86139\\appdata\\roaming\\python\\python310\\site-packages (from stevedore>=3.0.0->qiskit>=0.45.0->qiskit-ibm-runtime) (6.0.0)\n",
      "Requirement already satisfied: mpmath>=0.19 in c:\\users\\86139\\appdata\\roaming\\python\\python310\\site-packages (from sympy>=1.3->qiskit>=0.45.0->qiskit-ibm-runtime) (1.3.0)\n",
      "Collecting pycparser\n",
      "  Using cached pycparser-2.21-py2.py3-none-any.whl (118 kB)\n",
      "Building wheels for collected packages: ibm-platform-services, ibm-cloud-sdk-core\n",
      "  Building wheel for ibm-platform-services (pyproject.toml): started\n",
      "  Building wheel for ibm-platform-services (pyproject.toml): finished with status 'done'\n",
      "  Created wheel for ibm-platform-services: filename=ibm_platform_services-0.51.0-py3-none-any.whl size=330694 sha256=cc8d16dac380332e3b276608566950e5a98f0a59f1113920bbb07f84d0ac7d67\n",
      "  Stored in directory: c:\\users\\86139\\appdata\\local\\pip\\cache\\wheels\\7c\\53\\36\\c4d472580ad72eeaa5e00992b6ea127cd61b02c770fe0b56b6\n",
      "  Building wheel for ibm-cloud-sdk-core (pyproject.toml): started\n",
      "  Building wheel for ibm-cloud-sdk-core (pyproject.toml): finished with status 'done'\n",
      "  Created wheel for ibm-cloud-sdk-core: filename=ibm_cloud_sdk_core-3.19.1-py3-none-any.whl size=95849 sha256=9787e1d660c20f7980349f7dfe88f5dd2e434ac5b18a179154c417aaca8978c0\n",
      "  Stored in directory: c:\\users\\86139\\appdata\\local\\pip\\cache\\wheels\\d9\\b9\\b2\\2316e6df1fb93353a388ef07032b10655ca871c173b241e788\n",
      "Successfully built ibm-platform-services ibm-cloud-sdk-core\n",
      "Installing collected packages: websocket-client, sspilib, PyJWT, pycparser, ibm-cloud-sdk-core, cffi, ibm-platform-services, cryptography, pyspnego, requests-ntlm, qiskit-ibm-runtime\n",
      "Successfully installed PyJWT-2.8.0 cffi-1.16.0 cryptography-42.0.4 ibm-cloud-sdk-core-3.19.1 ibm-platform-services-0.51.0 pycparser-2.21 pyspnego-0.10.2 qiskit-ibm-runtime-0.20.0 requests-ntlm-1.2.0 sspilib-0.1.0 websocket-client-1.7.0\n",
      "Note: you may need to restart the kernel to use updated packages.\n"
     ]
    },
    {
     "name": "stderr",
     "output_type": "stream",
     "text": [
      "\n",
      "[notice] A new release of pip available: 22.2.2 -> 24.0\n",
      "[notice] To update, run: python.exe -m pip install --upgrade pip\n"
     ]
    }
   ],
   "source": [
    "%pip install qiskit --user\n",
    "%pip install qiskit-ibm-runtime --user\n",
    "# Install qiskit and qiskit-ibm-runtime in our environment"
   ]
  },
  {
   "cell_type": "markdown",
   "metadata": {},
   "source": [
    "### Your first quantum circuit\n",
    "\n",
    "In a circuit, we typically need to do three jobs: First, encode the input, then do some actual computation, and finally extract an output. For your first quantum circuit, we'll focus on the last of these jobs. We start by creating a quantum circuit with 3 qubits and 3 outputs."
   ]
  },
  {
   "cell_type": "code",
   "execution_count": 2,
   "metadata": {},
   "outputs": [
    {
     "data": {
      "text/html": [
       "<pre style=\"word-wrap: normal;white-space: pre;background: #fff0;line-height: 1.1;font-family: &quot;Courier New&quot;,Courier,monospace\">     \n",
       "q_0: \n",
       "     \n",
       "q_1: \n",
       "     \n",
       "q_2: \n",
       "     \n",
       "c: 3/\n",
       "     </pre>"
      ],
      "text/plain": [
       "     \n",
       "q_0: \n",
       "     \n",
       "q_1: \n",
       "     \n",
       "q_2: \n",
       "     \n",
       "c: 3/\n",
       "     "
      ]
     },
     "execution_count": 2,
     "metadata": {},
     "output_type": "execute_result"
    }
   ],
   "source": [
    "from qiskit import QuantumCircuit\n",
    "# Create quantum circuit with 3 qubits and 3 classical bits\n",
    "# (we'll explain why we need the classical bits later)\n",
    "qc = QuantumCircuit(3, 3)\n",
    "qc.draw()  # returns a drawing of the circuit"
   ]
  },
  {
   "cell_type": "markdown",
   "metadata": {},
   "source": [
    "Next, we need a way to tell our quantum computer to measure our qubits and record the results. To do this, we add a \"measure\" operation to our quantum circuit. We can do this with the QuantumCircuit's .measure() method."
   ]
  },
  {
   "cell_type": "code",
   "execution_count": 3,
   "metadata": {},
   "outputs": [
    {
     "data": {
      "text/html": [
       "<pre style=\"word-wrap: normal;white-space: pre;background: #fff0;line-height: 1.1;font-family: &quot;Courier New&quot;,Courier,monospace\">     ┌─┐      \n",
       "q_0: ┤M├──────\n",
       "     └╥┘┌─┐   \n",
       "q_1: ─╫─┤M├───\n",
       "      ║ └╥┘┌─┐\n",
       "q_2: ─╫──╫─┤M├\n",
       "      ║  ║ └╥┘\n",
       "c: 3/═╩══╩══╩═\n",
       "      0  1  2 </pre>"
      ],
      "text/plain": [
       "     ┌─┐      \n",
       "q_0: ┤M├──────\n",
       "     └╥┘┌─┐   \n",
       "q_1: ─╫─┤M├───\n",
       "      ║ └╥┘┌─┐\n",
       "q_2: ─╫──╫─┤M├\n",
       "      ║  ║ └╥┘\n",
       "c: 3/═╩══╩══╩═\n",
       "      0  1  2 "
      ]
     },
     "execution_count": 3,
     "metadata": {},
     "output_type": "execute_result"
    }
   ],
   "source": [
    "from qiskit import QuantumCircuit\n",
    "qc = QuantumCircuit(3, 3)\n",
    "# measure qubits 0, 1 & 2 to classical bits 0, 1 & 2 respectively\n",
    "qc.measure([0,1,2], [0,1,2])\n",
    "qc.draw()"
   ]
  },
  {
   "cell_type": "markdown",
   "metadata": {},
   "source": [
    "Next, let's see what the results of running this circuit would be. To do this, we'll use a quantum simulator, which is a standard computer calculating what an ideal quantum computer would do.\n",
    "\n",
    "Simulating a quantum computer is believed to be difficult for classical computers, as the best algorithms we have grow exponentially with the number of qubits. As such, these simulations are only possible for circuits with small numbers of qubits (up to ~30 qubits), or certain types of circuits for which we can use some tricks to speed up the simulation. Nevertheless, simulators are very useful tools for designing smaller quantum circuits.\n",
    "\n",
    "Let's import Qiskit’s simulator (called Aer), and make a new simulator object."
   ]
  },
  {
   "cell_type": "code",
   "execution_count": 5,
   "metadata": {},
   "outputs": [
    {
     "name": "stdout",
     "output_type": "stream",
     "text": [
      "Collecting qiskit_aer\n",
      "  Downloading qiskit_aer-0.13.3-cp310-cp310-win_amd64.whl (9.5 MB)\n",
      "     ---------------------------------------- 9.5/9.5 MB 12.9 MB/s eta 0:00:00\n",
      "Requirement already satisfied: numpy>=1.16.3 in c:\\users\\86139\\appdata\\local\\programs\\python\\python310\\lib\\site-packages (from qiskit_aer) (1.23.5)\n",
      "Requirement already satisfied: scipy>=1.0 in c:\\users\\86139\\appdata\\roaming\\python\\python310\\site-packages (from qiskit_aer) (1.12.0)\n",
      "Requirement already satisfied: qiskit>=0.45.0 in c:\\users\\86139\\appdata\\roaming\\python\\python310\\site-packages (from qiskit_aer) (1.0.0)\n",
      "Requirement already satisfied: psutil>=5 in c:\\users\\86139\\appdata\\roaming\\python\\python310\\site-packages (from qiskit_aer) (5.9.8)\n",
      "Requirement already satisfied: sympy>=1.3 in c:\\users\\86139\\appdata\\roaming\\python\\python310\\site-packages (from qiskit>=0.45.0->qiskit_aer) (1.12)\n",
      "Requirement already satisfied: rustworkx>=0.14.0 in c:\\users\\86139\\appdata\\roaming\\python\\python310\\site-packages (from qiskit>=0.45.0->qiskit_aer) (0.14.0)\n",
      "Requirement already satisfied: dill>=0.3 in c:\\users\\86139\\appdata\\roaming\\python\\python310\\site-packages (from qiskit>=0.45.0->qiskit_aer) (0.3.8)\n",
      "Requirement already satisfied: typing-extensions in c:\\users\\86139\\appdata\\roaming\\python\\python310\\site-packages (from qiskit>=0.45.0->qiskit_aer) (4.9.0)\n",
      "Requirement already satisfied: symengine>=0.11 in c:\\users\\86139\\appdata\\roaming\\python\\python310\\site-packages (from qiskit>=0.45.0->qiskit_aer) (0.11.0)\n",
      "Requirement already satisfied: stevedore>=3.0.0 in c:\\users\\86139\\appdata\\roaming\\python\\python310\\site-packages (from qiskit>=0.45.0->qiskit_aer) (5.1.0)\n",
      "Requirement already satisfied: python-dateutil>=2.8.0 in c:\\users\\86139\\appdata\\local\\programs\\python\\python310\\lib\\site-packages (from qiskit>=0.45.0->qiskit_aer) (2.8.2)\n",
      "Requirement already satisfied: six>=1.5 in c:\\users\\86139\\appdata\\local\\programs\\python\\python310\\lib\\site-packages (from python-dateutil>=2.8.0->qiskit>=0.45.0->qiskit_aer) (1.16.0)\n",
      "Requirement already satisfied: pbr!=2.1.0,>=2.0.0 in c:\\users\\86139\\appdata\\roaming\\python\\python310\\site-packages (from stevedore>=3.0.0->qiskit>=0.45.0->qiskit_aer) (6.0.0)\n",
      "Requirement already satisfied: mpmath>=0.19 in c:\\users\\86139\\appdata\\roaming\\python\\python310\\site-packages (from sympy>=1.3->qiskit>=0.45.0->qiskit_aer) (1.3.0)\n",
      "Installing collected packages: qiskit_aer\n",
      "Successfully installed qiskit_aer-0.13.3\n",
      "Note: you may need to restart the kernel to use updated packages.\n"
     ]
    },
    {
     "name": "stderr",
     "output_type": "stream",
     "text": [
      "\n",
      "[notice] A new release of pip available: 22.2.2 -> 24.0\n",
      "[notice] To update, run: python.exe -m pip install --upgrade pip\n"
     ]
    }
   ],
   "source": [
    "%pip install qiskit_aer --user \n",
    "# Install Qiskit's imulator, Aer on our environment"
   ]
  },
  {
   "cell_type": "code",
   "execution_count": 6,
   "metadata": {},
   "outputs": [],
   "source": [
    "from qiskit_aer import AerSimulator  # pylint: disable=import-error, no-name-in-module\n",
    "sim = AerSimulator()  # make new simulator object called sim"
   ]
  },
  {
   "cell_type": "markdown",
   "metadata": {},
   "source": [
    "To do the simulation, we can use the simulator’s .run() method. This returns a \"job\", which contains information about the experiment, such as whether the experiment is running or completed, the backend it ran on, and (importantly for us), the results of the experiment.\n",
    "\n",
    "To get the results from the job, we use the results method, and the most popular way to view the results is as a dictionary of \"counts\"."
   ]
  },
  {
   "cell_type": "code",
   "execution_count": 7,
   "metadata": {},
   "outputs": [
    {
     "data": {
      "text/plain": [
       "{'000': 1024}"
      ]
     },
     "execution_count": 7,
     "metadata": {},
     "output_type": "execute_result"
    }
   ],
   "source": [
    "job = sim.run(qc)      # run the experiment\n",
    "result = job.result()  # get the results\n",
    "result.get_counts()    # interpret the results as a \"counts\" dictionary"
   ]
  }
 ],
 "metadata": {
  "kernelspec": {
   "display_name": "Python 3",
   "language": "python",
   "name": "python3"
  },
  "language_info": {
   "codemirror_mode": {
    "name": "ipython",
    "version": 3
   },
   "file_extension": ".py",
   "mimetype": "text/x-python",
   "name": "python",
   "nbconvert_exporter": "python",
   "pygments_lexer": "ipython3",
   "version": "3.10.7"
  }
 },
 "nbformat": 4,
 "nbformat_minor": 2
}
