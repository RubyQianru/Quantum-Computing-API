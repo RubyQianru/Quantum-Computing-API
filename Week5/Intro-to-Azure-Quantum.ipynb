{
 "cells": [
  {
   "cell_type": "markdown",
   "metadata": {},
   "source": [
    "# Intro to Azure Quantum\n",
    "\n",
    "- Main Documentation: [Azure Quantum documentation (preview)](https://learn.microsoft.com/en-us/azure/quantum/?WT.mc_id=Portal-HubsExtension)\n",
    "- [What is Azure Quantum?](https://learn.microsoft.com/en-us/azure/quantum/overview-azure-quantum)\n",
    "- [How to submit a circuit with Qiskit to Azure Quantum](https://learn.microsoft.com/en-us/azure/quantum/quickstart-microsoft-qiskit?tabs=tabid-ionq&pivots=platform-portal)"
   ]
  },
  {
   "cell_type": "code",
   "execution_count": 2,
   "metadata": {},
   "outputs": [
    {
     "name": "stdout",
     "output_type": "stream",
     "text": [
      "Requirement already satisfied: azure-quantum[qiskit] in /Users/qianruzhang/anaconda3/envs/qc_old/lib/python3.8/site-packages (2.0.0)\n",
      "Requirement already satisfied: azure-core<2.0,>=1.30 in /Users/qianruzhang/anaconda3/envs/qc_old/lib/python3.8/site-packages (from azure-quantum[qiskit]) (1.30.1)\n",
      "Requirement already satisfied: azure-identity<2.0,>=1.15 in /Users/qianruzhang/anaconda3/envs/qc_old/lib/python3.8/site-packages (from azure-quantum[qiskit]) (1.15.0)\n",
      "Requirement already satisfied: azure-storage-blob<13.0,>=12.19 in /Users/qianruzhang/anaconda3/envs/qc_old/lib/python3.8/site-packages (from azure-quantum[qiskit]) (12.19.1)\n",
      "Requirement already satisfied: msrest<1.0,>=0.7.1 in /Users/qianruzhang/anaconda3/envs/qc_old/lib/python3.8/site-packages (from azure-quantum[qiskit]) (0.7.1)\n",
      "Requirement already satisfied: numpy<2.0,>=1.21.0 in /Users/qianruzhang/anaconda3/envs/qc_old/lib/python3.8/site-packages (from azure-quantum[qiskit]) (1.24.4)\n",
      "Requirement already satisfied: deprecated<2.0,>=1.2.12 in /Users/qianruzhang/anaconda3/envs/qc_old/lib/python3.8/site-packages (from azure-quantum[qiskit]) (1.2.14)\n",
      "Requirement already satisfied: Markdown>=3.4.1 in /Users/qianruzhang/anaconda3/envs/qc_old/lib/python3.8/site-packages (from azure-quantum[qiskit]) (3.6)\n",
      "Requirement already satisfied: python-markdown-math>=0.8 in /Users/qianruzhang/anaconda3/envs/qc_old/lib/python3.8/site-packages (from azure-quantum[qiskit]) (0.8)\n",
      "Collecting qiskit-ionq<0.6,>=0.5 (from azure-quantum[qiskit])\n",
      "  Downloading qiskit_ionq-0.5.0-py3-none-any.whl.metadata (7.7 kB)\n",
      "Collecting qiskit-qir<0.6,>=0.5 (from azure-quantum[qiskit])\n",
      "  Downloading qiskit_qir-0.5.0-py2.py3-none-any.whl.metadata (2.1 kB)\n",
      "Requirement already satisfied: qiskit<2.0,>=1.0 in /Users/qianruzhang/anaconda3/envs/qc_old/lib/python3.8/site-packages (from azure-quantum[qiskit]) (1.0.1)\n",
      "Requirement already satisfied: requests>=2.21.0 in /Users/qianruzhang/anaconda3/envs/qc_old/lib/python3.8/site-packages (from azure-core<2.0,>=1.30->azure-quantum[qiskit]) (2.31.0)\n",
      "Requirement already satisfied: six>=1.11.0 in /Users/qianruzhang/anaconda3/envs/qc_old/lib/python3.8/site-packages (from azure-core<2.0,>=1.30->azure-quantum[qiskit]) (1.16.0)\n",
      "Requirement already satisfied: typing-extensions>=4.6.0 in /Users/qianruzhang/anaconda3/envs/qc_old/lib/python3.8/site-packages (from azure-core<2.0,>=1.30->azure-quantum[qiskit]) (4.10.0)\n",
      "Requirement already satisfied: cryptography>=2.5 in /Users/qianruzhang/anaconda3/envs/qc_old/lib/python3.8/site-packages (from azure-identity<2.0,>=1.15->azure-quantum[qiskit]) (42.0.5)\n",
      "Requirement already satisfied: msal<2.0.0,>=1.24.0 in /Users/qianruzhang/anaconda3/envs/qc_old/lib/python3.8/site-packages (from azure-identity<2.0,>=1.15->azure-quantum[qiskit]) (1.28.0)\n",
      "Requirement already satisfied: msal-extensions<2.0.0,>=0.3.0 in /Users/qianruzhang/anaconda3/envs/qc_old/lib/python3.8/site-packages (from azure-identity<2.0,>=1.15->azure-quantum[qiskit]) (1.1.0)\n",
      "Requirement already satisfied: isodate>=0.6.1 in /Users/qianruzhang/anaconda3/envs/qc_old/lib/python3.8/site-packages (from azure-storage-blob<13.0,>=12.19->azure-quantum[qiskit]) (0.6.1)\n",
      "Requirement already satisfied: wrapt<2,>=1.10 in /Users/qianruzhang/anaconda3/envs/qc_old/lib/python3.8/site-packages (from deprecated<2.0,>=1.2.12->azure-quantum[qiskit]) (1.16.0)\n",
      "Requirement already satisfied: importlib-metadata>=4.4 in /Users/qianruzhang/anaconda3/envs/qc_old/lib/python3.8/site-packages (from Markdown>=3.4.1->azure-quantum[qiskit]) (7.0.1)\n",
      "Requirement already satisfied: certifi>=2017.4.17 in /Users/qianruzhang/anaconda3/envs/qc_old/lib/python3.8/site-packages (from msrest<1.0,>=0.7.1->azure-quantum[qiskit]) (2024.2.2)\n",
      "Requirement already satisfied: requests-oauthlib>=0.5.0 in /Users/qianruzhang/anaconda3/envs/qc_old/lib/python3.8/site-packages (from msrest<1.0,>=0.7.1->azure-quantum[qiskit]) (2.0.0)\n",
      "Requirement already satisfied: rustworkx>=0.14.0 in /Users/qianruzhang/anaconda3/envs/qc_old/lib/python3.8/site-packages (from qiskit<2.0,>=1.0->azure-quantum[qiskit]) (0.14.1)\n",
      "Requirement already satisfied: scipy>=1.5 in /Users/qianruzhang/anaconda3/envs/qc_old/lib/python3.8/site-packages (from qiskit<2.0,>=1.0->azure-quantum[qiskit]) (1.10.1)\n",
      "Requirement already satisfied: sympy>=1.3 in /Users/qianruzhang/anaconda3/envs/qc_old/lib/python3.8/site-packages (from qiskit<2.0,>=1.0->azure-quantum[qiskit]) (1.12)\n",
      "Requirement already satisfied: dill>=0.3 in /Users/qianruzhang/anaconda3/envs/qc_old/lib/python3.8/site-packages (from qiskit<2.0,>=1.0->azure-quantum[qiskit]) (0.3.8)\n",
      "Requirement already satisfied: python-dateutil>=2.8.0 in /Users/qianruzhang/anaconda3/envs/qc_old/lib/python3.8/site-packages (from qiskit<2.0,>=1.0->azure-quantum[qiskit]) (2.9.0)\n",
      "Requirement already satisfied: stevedore>=3.0.0 in /Users/qianruzhang/anaconda3/envs/qc_old/lib/python3.8/site-packages (from qiskit<2.0,>=1.0->azure-quantum[qiskit]) (5.2.0)\n",
      "Requirement already satisfied: symengine>=0.11 in /Users/qianruzhang/anaconda3/envs/qc_old/lib/python3.8/site-packages (from qiskit<2.0,>=1.0->azure-quantum[qiskit]) (0.11.0)\n",
      "Requirement already satisfied: decorator>=5.1.0 in /Users/qianruzhang/anaconda3/envs/qc_old/lib/python3.8/site-packages (from qiskit-ionq<0.6,>=0.5->azure-quantum[qiskit]) (5.1.1)\n",
      "Collecting retry>=0.9.0 (from qiskit-ionq<0.6,>=0.5->azure-quantum[qiskit])\n",
      "  Downloading retry-0.9.2-py2.py3-none-any.whl.metadata (5.8 kB)\n",
      "Collecting pyqir<0.11.0,>=0.10.0 (from qiskit-qir<0.6,>=0.5->azure-quantum[qiskit])\n",
      "  Downloading pyqir-0.10.0-cp38-abi3-macosx_10_9_x86_64.whl.metadata (4.2 kB)\n",
      "Requirement already satisfied: cffi>=1.12 in /Users/qianruzhang/anaconda3/envs/qc_old/lib/python3.8/site-packages (from cryptography>=2.5->azure-identity<2.0,>=1.15->azure-quantum[qiskit]) (1.16.0)\n",
      "Requirement already satisfied: zipp>=0.5 in /Users/qianruzhang/anaconda3/envs/qc_old/lib/python3.8/site-packages (from importlib-metadata>=4.4->Markdown>=3.4.1->azure-quantum[qiskit]) (3.17.0)\n",
      "Requirement already satisfied: PyJWT<3,>=1.0.0 in /Users/qianruzhang/anaconda3/envs/qc_old/lib/python3.8/site-packages (from PyJWT[crypto]<3,>=1.0.0->msal<2.0.0,>=1.24.0->azure-identity<2.0,>=1.15->azure-quantum[qiskit]) (2.8.0)\n",
      "Requirement already satisfied: packaging in /Users/qianruzhang/anaconda3/envs/qc_old/lib/python3.8/site-packages (from msal-extensions<2.0.0,>=0.3.0->azure-identity<2.0,>=1.15->azure-quantum[qiskit]) (23.2)\n",
      "Requirement already satisfied: portalocker<3,>=1.0 in /Users/qianruzhang/anaconda3/envs/qc_old/lib/python3.8/site-packages (from msal-extensions<2.0.0,>=0.3.0->azure-identity<2.0,>=1.15->azure-quantum[qiskit]) (2.8.2)\n",
      "Requirement already satisfied: charset-normalizer<4,>=2 in /Users/qianruzhang/anaconda3/envs/qc_old/lib/python3.8/site-packages (from requests>=2.21.0->azure-core<2.0,>=1.30->azure-quantum[qiskit]) (3.3.2)\n",
      "Requirement already satisfied: idna<4,>=2.5 in /Users/qianruzhang/anaconda3/envs/qc_old/lib/python3.8/site-packages (from requests>=2.21.0->azure-core<2.0,>=1.30->azure-quantum[qiskit]) (3.6)\n",
      "Requirement already satisfied: urllib3<3,>=1.21.1 in /Users/qianruzhang/anaconda3/envs/qc_old/lib/python3.8/site-packages (from requests>=2.21.0->azure-core<2.0,>=1.30->azure-quantum[qiskit]) (2.2.1)\n",
      "Requirement already satisfied: oauthlib>=3.0.0 in /Users/qianruzhang/anaconda3/envs/qc_old/lib/python3.8/site-packages (from requests-oauthlib>=0.5.0->msrest<1.0,>=0.7.1->azure-quantum[qiskit]) (3.2.2)\n",
      "Collecting py<2.0.0,>=1.4.26 (from retry>=0.9.0->qiskit-ionq<0.6,>=0.5->azure-quantum[qiskit])\n",
      "  Downloading py-1.11.0-py2.py3-none-any.whl.metadata (2.8 kB)\n",
      "Requirement already satisfied: pbr!=2.1.0,>=2.0.0 in /Users/qianruzhang/anaconda3/envs/qc_old/lib/python3.8/site-packages (from stevedore>=3.0.0->qiskit<2.0,>=1.0->azure-quantum[qiskit]) (6.0.0)\n",
      "Requirement already satisfied: mpmath>=0.19 in /Users/qianruzhang/anaconda3/envs/qc_old/lib/python3.8/site-packages (from sympy>=1.3->qiskit<2.0,>=1.0->azure-quantum[qiskit]) (1.3.0)\n",
      "Requirement already satisfied: pycparser in /Users/qianruzhang/anaconda3/envs/qc_old/lib/python3.8/site-packages (from cffi>=1.12->cryptography>=2.5->azure-identity<2.0,>=1.15->azure-quantum[qiskit]) (2.21)\n",
      "Downloading qiskit_ionq-0.5.0-py3-none-any.whl (37 kB)\n",
      "Downloading qiskit_qir-0.5.0-py2.py3-none-any.whl (19 kB)\n",
      "Downloading pyqir-0.10.0-cp38-abi3-macosx_10_9_x86_64.whl (1.5 MB)\n",
      "\u001b[2K   \u001b[90m━━━━━━━━━━━━━━━━━━━━━━━━━━━━━━━━━━━━━━━━\u001b[0m \u001b[32m1.5/1.5 MB\u001b[0m \u001b[31m17.0 MB/s\u001b[0m eta \u001b[36m0:00:00\u001b[0m00:01\u001b[0m00:01\u001b[0m\n",
      "\u001b[?25hDownloading retry-0.9.2-py2.py3-none-any.whl (8.0 kB)\n",
      "Downloading py-1.11.0-py2.py3-none-any.whl (98 kB)\n",
      "\u001b[2K   \u001b[90m━━━━━━━━━━━━━━━━━━━━━━━━━━━━━━━━━━━━━━━━\u001b[0m \u001b[32m98.7/98.7 kB\u001b[0m \u001b[31m3.1 MB/s\u001b[0m eta \u001b[36m0:00:00\u001b[0m\n",
      "\u001b[?25hInstalling collected packages: pyqir, py, retry, qiskit-qir, qiskit-ionq\n",
      "Successfully installed py-1.11.0 pyqir-0.10.0 qiskit-ionq-0.5.0 qiskit-qir-0.5.0 retry-0.9.2\n",
      "Note: you may need to restart the kernel to use updated packages.\n"
     ]
    }
   ],
   "source": [
    "%pip install --upgrade \"azure-quantum[qiskit]\""
   ]
  },
  {
   "cell_type": "code",
   "execution_count": 4,
   "metadata": {},
   "outputs": [],
   "source": [
    "import azure.quantum\n",
    "from qiskit import QuantumCircuit\n",
    "from qiskit.visualization import plot_histogram\n",
    "from azure.quantum.qiskit import AzureQuantumProvider"
   ]
  },
  {
   "cell_type": "code",
   "execution_count": 5,
   "metadata": {},
   "outputs": [],
   "source": [
    "from azure.quantum import Workspace\n",
    "\n",
    "workspace = Workspace ( \n",
    "    resource_id = \"/subscriptions/bb7d82f6-5626-486b-8e29-835b0d417e07/resourceGroups/AzureQuantum/providers/Microsoft.Quantum/Workspaces/Tester\", # Add your resource_id \n",
    "    location = \"East US\"  # Add your workspace location (for example, \"westus\") \n",
    ")\n",
    "\n",
    "provider = AzureQuantumProvider(workspace)"
   ]
  },
  {
   "cell_type": "code",
   "execution_count": 6,
   "metadata": {},
   "outputs": [
    {
     "name": "stdout",
     "output_type": "stream",
     "text": [
      "This workspace's targets:\n",
      "- ionq.simulator\n",
      "- ionq.simulator\n",
      "- ionq.simulator\n",
      "- ionq.qpu\n",
      "- ionq.qpu\n",
      "- ionq.qpu\n",
      "- ionq.qpu.aria-1\n",
      "- ionq.qpu.aria-1\n",
      "- ionq.qpu.aria-1\n",
      "- ionq.qpu.aria-2\n",
      "- ionq.qpu.aria-2\n",
      "- ionq.qpu.aria-2\n",
      "- quantinuum.sim.h1-1sc\n",
      "- quantinuum.sim.h1-1sc\n",
      "- quantinuum.sim.h1-2sc\n",
      "- quantinuum.sim.h1-2sc\n",
      "- quantinuum.sim.h1-1e\n",
      "- quantinuum.sim.h1-1e\n",
      "- quantinuum.sim.h1-2e\n",
      "- quantinuum.sim.h1-2e\n",
      "- quantinuum.qpu.h1-1\n",
      "- quantinuum.qpu.h1-1\n",
      "- quantinuum.qpu.h1-2\n",
      "- quantinuum.qpu.h1-2\n",
      "- rigetti.sim.qvm\n",
      "- rigetti.qpu.ankaa-9q-1\n",
      "- rigetti.qpu.ankaa-2\n",
      "- microsoft.estimator\n"
     ]
    }
   ],
   "source": [
    "print(\"This workspace's targets:\")\n",
    "for backend in provider.backends():\n",
    "    print(\"- \" + backend.name())"
   ]
  },
  {
   "cell_type": "code",
   "execution_count": 7,
   "metadata": {},
   "outputs": [
    {
     "data": {
      "text/html": [
       "<pre style=\"word-wrap: normal;white-space: pre;background: #fff0;line-height: 1.1;font-family: &quot;Courier New&quot;,Courier,monospace\">     ┌───┐          ┌─┐      \n",
       "q_0: ┤ H ├──■───────┤M├──────\n",
       "     └───┘┌─┴─┐     └╥┘┌─┐   \n",
       "q_1: ─────┤ X ├──■───╫─┤M├───\n",
       "          └───┘┌─┴─┐ ║ └╥┘┌─┐\n",
       "q_2: ──────────┤ X ├─╫──╫─┤M├\n",
       "               └───┘ ║  ║ └╥┘\n",
       "c: 3/════════════════╩══╩══╩═\n",
       "                     0  1  2 </pre>"
      ],
      "text/plain": [
       "     ┌───┐          ┌─┐      \n",
       "q_0: ┤ H ├──■───────┤M├──────\n",
       "     └───┘┌─┴─┐     └╥┘┌─┐   \n",
       "q_1: ─────┤ X ├──■───╫─┤M├───\n",
       "          └───┘┌─┴─┐ ║ └╥┘┌─┐\n",
       "q_2: ──────────┤ X ├─╫──╫─┤M├\n",
       "               └───┘ ║  ║ └╥┘\n",
       "c: 3/════════════════╩══╩══╩═\n",
       "                     0  1  2 "
      ]
     },
     "execution_count": 7,
     "metadata": {},
     "output_type": "execute_result"
    }
   ],
   "source": [
    "# Create a Quantum Circuit acting on the q register\n",
    "circuit = QuantumCircuit(3, 3)\n",
    "circuit.name = \"Qiskit Sample - 3-qubit GHZ circuit\"\n",
    "circuit.h(0)\n",
    "circuit.cx(0, 1)\n",
    "circuit.cx(1, 2)\n",
    "circuit.measure([0,1,2], [0, 1, 2])\n",
    "\n",
    "# Print out the circuit\n",
    "circuit.draw()"
   ]
  },
  {
   "cell_type": "code",
   "execution_count": 8,
   "metadata": {},
   "outputs": [],
   "source": [
    "simulator_backend = provider.get_backend(\"ionq.simulator\")"
   ]
  },
  {
   "cell_type": "code",
   "execution_count": 9,
   "metadata": {},
   "outputs": [],
   "source": [
    "from qiskit import transpile\n",
    "circuit = transpile(circuit, simulator_backend)"
   ]
  },
  {
   "cell_type": "code",
   "execution_count": 10,
   "metadata": {},
   "outputs": [
    {
     "name": "stdout",
     "output_type": "stream",
     "text": [
      "Job id dd4e4854-ec91-11ee-8aca-acde48001122\n"
     ]
    }
   ],
   "source": [
    "job = simulator_backend.run(circuit, shots=100)\n",
    "job_id = job.id()\n",
    "print(\"Job id\", job_id)"
   ]
  },
  {
   "cell_type": "code",
   "execution_count": 11,
   "metadata": {},
   "outputs": [
    {
     "name": "stdout",
     "output_type": "stream",
     "text": [
      "Result(backend_name='ionq.simulator', backend_version='1', qobj_id='Qiskit Sample - 3-qubit GHZ circuit', job_id='dd4e4854-ec91-11ee-8aca-acde48001122', success=True, results=[ExperimentResult(shots=100, success=True, meas_level=2, data=ExperimentResultData(counts={'000': 51, '111': 49}, probabilities=defaultdict(<class 'int'>, {'000': 0.5, '111': 0.5})), header=QobjExperimentHeader(meas_map='[0, 1, 2]', metadata={}, name='Qiskit Sample - 3-qubit GHZ circuit', num_qubits='3', qiskit='True'))], date=None, status=None, header=None, error_data=None)\n"
     ]
    }
   ],
   "source": [
    "result = job.result()\n",
    "print(result)"
   ]
  },
  {
   "cell_type": "code",
   "execution_count": 12,
   "metadata": {},
   "outputs": [
    {
     "name": "stdout",
     "output_type": "stream",
     "text": [
      "{'000': 51, '001': 0, '010': 0, '011': 0, '100': 0, '101': 0, '110': 0, '111': 49}\n"
     ]
    },
    {
     "data": {
      "image/png": "[encoded data removed]",
      "text/plain": [
       "<Figure size 700x500 with 1 Axes>"
      ]
     },
     "execution_count": 12,
     "metadata": {},
     "output_type": "execute_result"
    }
   ],
   "source": [
    "counts = {format(n, \"03b\"): 0 for n in range(8)}\n",
    "counts.update(result.get_counts(circuit))\n",
    "print(counts)\n",
    "plot_histogram(counts)"
   ]
  },
  {
   "cell_type": "code",
   "execution_count": 13,
   "metadata": {},
   "outputs": [
    {
     "name": "stdout",
     "output_type": "stream",
     "text": [
      "Estimated cost: 1.0\n"
     ]
    }
   ],
   "source": [
    "backend = provider.get_backend(\"ionq.qpu\")\n",
    "cost = backend.estimate_cost(circuit, shots=1024)\n",
    "\n",
    "print(f\"Estimated cost: {cost.estimated_total}\")"
   ]
  },
  {
   "cell_type": "code",
   "execution_count": 16,
   "metadata": {},
   "outputs": [],
   "source": [
    "qpu_backend = provider.get_backend(\"rigetti.qpu.ankaa-2\")"
   ]
  },
  {
   "cell_type": "code",
   "execution_count": 17,
   "metadata": {},
   "outputs": [
    {
     "name": "stdout",
     "output_type": "stream",
     "text": [
      "Job id b49fa022-ec98-11ee-8aca-acde48001122\n",
      "..........Result(backend_name='rigetti.qpu.ankaa-2', backend_version='1', qobj_id='Qiskit Sample - 3-qubit GHZ circuit', job_id='b49fa022-ec98-11ee-8aca-acde48001122', success=True, results=[ExperimentResult(shots=1024, success=True, meas_level=2, data=ExperimentResultData(counts={'111': 356.0, '000': 416.0, '101': 39.0, '011': 64.0, '100': 28.0, '001': 69.0, '110': 29.0, '010': 23.0}, probabilities={'111': 0.34765625, '000': 0.40625, '101': 0.0380859375, '011': 0.0625, '100': 0.02734375, '001': 0.0673828125, '110': 0.0283203125, '010': 0.0224609375}), header=QobjExperimentHeader(metadata={}, name='Qiskit Sample - 3-qubit GHZ circuit', num_qubits='3', qiskit='True'))], date=None, status=None, header=None, error_data=None)\n",
      "{'000': 416.0, '001': 69.0, '010': 23.0, '011': 64.0, '100': 28.0, '101': 39.0, '110': 29.0, '111': 356.0}\n"
     ]
    },
    {
     "data": {
      "image/png": "[encoded data removed]",
      "text/plain": [
       "<Figure size 700x500 with 1 Axes>"
      ]
     },
     "execution_count": 17,
     "metadata": {},
     "output_type": "execute_result"
    }
   ],
   "source": [
    "# Submit the circuit to run on Azure Quantum\n",
    "job = qpu_backend.run(circuit, shots=1024)\n",
    "job_id = job.id()\n",
    "print(\"Job id\", job_id)\n",
    "\n",
    "# Get the job results (this method waits for the Job to complete):\n",
    "result = job.result()\n",
    "print(result)\n",
    "counts = {format(n, \"03b\"): 0 for n in range(8)}\n",
    "counts.update(result.get_counts(circuit))\n",
    "print(counts)\n",
    "plot_histogram(counts)"
   ]
  }
 ],
 "metadata": {
  "kernelspec": {
   "display_name": "qc_old",
   "language": "python",
   "name": "python3"
  },
  "language_info": {
   "codemirror_mode": {
    "name": "ipython",
    "version": 3
   },
   "file_extension": ".py",
   "mimetype": "text/x-python",
   "name": "python",
   "nbconvert_exporter": "python",
   "pygments_lexer": "ipython3",
   "version": "3.8.18"
  }
 },
 "nbformat": 4,
 "nbformat_minor": 2
}
