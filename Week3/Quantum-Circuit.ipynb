{
 "cells": [
  {
   "cell_type": "markdown",
   "metadata": {},
   "source": [
    "# Quantum Circuits\n",
    "- [Quantum Circuits](https://learning.quantum.ibm.com/course/basics-of-quantum-information/quantum-circuits)\n",
    "\n",
    "## Circuits\n",
    "\n",
    "- **Acyclic**: Information flows from left to right. \n",
    "\n",
    "- in the **quantum circuit** model, the wires represent qubits and the gates represent both unitary operations and measurements.\n",
    "\n",
    "## Quantum Circuits\n",
    "In the **quantum circuit** model, the wires represent qubits and the gates represent both unitary operations and measurements.\n",
    "\n",
    "* **Qubits**: Quantum bits, or qubits, are the fundamental units of quantum information. Unlike classical bits, which can only be in a state of 0 or 1, qubits can exist in a superposition of both states simultaneously.\n",
    "\n",
    "* **Gates**: Quantum gates are operations that manipulate qubits. In the example, the Hadamard gate (circuit.h(0)) is used. The Hadamard gate creates a superposition by transforming the |0⟩ state into (|0⟩ + |1⟩) / √2. Other gates, like X, Y, Z, CNOT, etc., can be used for different quantum operations.\n",
    "\n",
    "* **Measurements**: Quantum measurement collapses the superposition of qubits into definite classical states. In Qiskit, measurements are performed using the measure method. After measurement, the qubit is in a classical state (either 0 or 1), and the quantum superposition is lost.\n",
    "\n",
    "* **Simulation**: In the code, the simulation is performed using the Aer simulator, which allows you to simulate quantum circuits on a classical computer. In a real quantum computer, the behavior would be subject to quantum noise and errors.\n"
   ]
  },
  {
   "cell_type": "code",
   "execution_count": 1,
   "metadata": {},
   "outputs": [],
   "source": [
    "from qiskit import QuantumCircuit, transpile, assemble\n",
    "from qiskit_aer import AerSimulator\n",
    "from qiskit.visualization import plot_histogram"
   ]
  },
  {
   "cell_type": "code",
   "execution_count": 5,
   "metadata": {},
   "outputs": [],
   "source": [
    "qc = QuantumCircuit(4, 4)"
   ]
  },
  {
   "cell_type": "code",
   "execution_count": 6,
   "metadata": {},
   "outputs": [
    {
     "data": {
      "text/plain": [
       "<qiskit.circuit.instructionset.InstructionSet at 0x7fe3baea24c0>"
      ]
     },
     "execution_count": 6,
     "metadata": {},
     "output_type": "execute_result"
    }
   ],
   "source": [
    "qc.h(0)\n",
    "qc.s(1)\n",
    "qc.h(2)\n",
    "qc.t(3)"
   ]
  },
  {
   "cell_type": "code",
   "execution_count": 8,
   "metadata": {},
   "outputs": [
    {
     "data": {
      "text/plain": [
       "<qiskit.circuit.instructionset.InstructionSet at 0x7fe3bae38490>"
      ]
     },
     "execution_count": 8,
     "metadata": {},
     "output_type": "execute_result"
    }
   ],
   "source": [
    "qc.measure(3, 3)\n"
   ]
  },
  {
   "cell_type": "code",
   "execution_count": 9,
   "metadata": {},
   "outputs": [],
   "source": [
    "simulator = AerSimulator()\n",
    "compiled_circuit = transpile(qc, simulator)\n",
    "\n",
    "result = simulator.run(compiled_circuit).result()"
   ]
  },
  {
   "cell_type": "code",
   "execution_count": 11,
   "metadata": {},
   "outputs": [
    {
     "data": {
      "image/png": "[encoded data removed]",
      "text/plain": [
       "<Figure size 700x500 with 1 Axes>"
      ]
     },
     "execution_count": 11,
     "metadata": {},
     "output_type": "execute_result"
    }
   ],
   "source": [
    "# Visualize the histogram of measurement outcomes\n",
    "counts = result.get_counts(qc)\n",
    "plot_histogram(counts)"
   ]
  },
  {
   "cell_type": "code",
   "execution_count": null,
   "metadata": {},
   "outputs": [],
   "source": [
    "qc = QuantumCircuit()"
   ]
  }
 ],
 "metadata": {
  "kernelspec": {
   "display_name": "qc_old",
   "language": "python",
   "name": "python3"
  },
  "language_info": {
   "codemirror_mode": {
    "name": "ipython",
    "version": 3
   },
   "file_extension": ".py",
   "mimetype": "text/x-python",
   "name": "python",
   "nbconvert_exporter": "python",
   "pygments_lexer": "ipython3",
   "version": "3.8.18"
  }
 },
 "nbformat": 4,
 "nbformat_minor": 2
}
