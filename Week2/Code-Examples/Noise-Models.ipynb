{
 "cells": [
  {
   "cell_type": "code",
   "execution_count": 3,
   "metadata": {},
   "outputs": [],
   "source": [
    "from qiskit import QuantumCircuit, transpile\n",
    "from qiskit.visualization import plot_histogram\n",
    "from qiskit_aer import AerSimulator\n",
    "import qiskit_aer.noise as noise"
   ]
  },
  {
   "cell_type": "markdown",
   "metadata": {},
   "source": [
    "# Noise Models (qiskit_aer.noise)\n",
    "[Link](https://qiskit.github.io/qiskit-aer/apidocs/aer_noise.html)\n",
    "\n",
    "This module contains classes and functions to build a noise model for simulating a Qiskit quantum circuit in the presence of errors.\n",
    "\n",
    "## Building Noise Models\n",
    "The NoiseModel class is used to represent noise model for the QasmSimulator. It can be used to construct custom noise models for simulator, to automatically generate a basic device noise model for an IBMQ or fake backend.\n",
    "\n",
    "## Device Noise Models\n",
    "A simplified approximate NoiseModel can be generated automatically from the properties of real device backends from the IBMQ provider or fake backends of the fake_provider using the NoiseModel.from_backend() method. See the method documentation for details."
   ]
  },
  {
   "cell_type": "code",
   "execution_count": 4,
   "metadata": {},
   "outputs": [],
   "source": [
    "\n",
    "# Error probabilities\n",
    "prob_1 = 0.001  # 1-qubit gate\n",
    "prob_2 = 0.01   # 2-qubit gate\n",
    "\n",
    "# Depolarizing quantum errors\n",
    "error_1 = noise.depolarizing_error(prob_1, 1)\n",
    "error_2 = noise.depolarizing_error(prob_2, 2)\n",
    "\n",
    "# Add errors to noise model\n",
    "noise_model = noise.NoiseModel()\n",
    "noise_model.add_all_qubit_quantum_error(error_1, ['u1', 'u2', 'u3'])\n",
    "noise_model.add_all_qubit_quantum_error(error_2, ['cx'])"
   ]
  },
  {
   "cell_type": "code",
   "execution_count": 5,
   "metadata": {},
   "outputs": [],
   "source": [
    "# Get basis gates from noise model\n",
    "basis_gates = noise_model.basis_gates"
   ]
  },
  {
   "cell_type": "code",
   "execution_count": 6,
   "metadata": {},
   "outputs": [
    {
     "data": {
      "text/plain": [
       "<qiskit.circuit.instructionset.InstructionSet at 0x7fe91b7c9fd0>"
      ]
     },
     "execution_count": 6,
     "metadata": {},
     "output_type": "execute_result"
    }
   ],
   "source": [
    "# Make a circuit\n",
    "circ = QuantumCircuit(3, 3)\n",
    "circ.h(0)\n",
    "circ.cx(0, 1)\n",
    "circ.cx(1, 2)\n",
    "circ.measure([0, 1, 2], [0, 1, 2])"
   ]
  },
  {
   "cell_type": "code",
   "execution_count": 7,
   "metadata": {},
   "outputs": [],
   "source": [
    "backend = AerSimulator(noise_model=noise_model,\n",
    "                       basis_gates=basis_gates)\n",
    "transpiled_circuit = transpile(circ, backend)"
   ]
  },
  {
   "cell_type": "code",
   "execution_count": 8,
   "metadata": {},
   "outputs": [
    {
     "data": {
      "image/png": "[encoded data removed]",
      "text/plain": [
       "<Figure size 700x500 with 1 Axes>"
      ]
     },
     "execution_count": 8,
     "metadata": {},
     "output_type": "execute_result"
    }
   ],
   "source": [
    "result = backend.run(transpiled_circuit).result()\n",
    "\n",
    "counts = result.get_counts(0)\n",
    "plot_histogram(counts)"
   ]
  },
  {
   "cell_type": "code",
   "execution_count": 9,
   "metadata": {},
   "outputs": [
    {
     "name": "stdout",
     "output_type": "stream",
     "text": [
      "Result(backend_name='aer_simulator', backend_version='0.13.3', qobj_id='', job_id='7c040679-196e-492d-a5de-3a66a7145bca', success=True, results=[ExperimentResult(shots=1024, success=True, meas_level=2, data=ExperimentResultData(counts={'0x5': 2, '0x0': 493, '0x2': 1, '0x4': 1, '0x1': 2, '0x6': 9, '0x3': 1, '0x7': 515}), header=QobjExperimentHeader(creg_sizes=[['c', 3]], global_phase=0.0, memory_slots=3, metadata={}, n_qubits=3, name='circuit-186', qreg_sizes=[['q', 3]]), status=DONE, seed_simulator=1907688846, metadata={'num_bind_params': 1, 'runtime_parameter_bind': False, 'parallel_state_update': 8, 'parallel_shots': 1, 'sample_measure_time': 0.000665379, 'noise': 'superop', 'batched_shots_optimization': False, 'remapped_qubits': False, 'active_input_qubits': [0, 1, 2], 'device': 'CPU', 'time_taken': 0.002553229, 'measure_sampling': True, 'num_clbits': 3, 'max_memory_mb': 16384, 'input_qubit_map': [[2, 2], [1, 1], [0, 0]], 'num_qubits': 3, 'method': 'density_matrix', 'required_memory_mb': 1, 'fusion': {'enabled': True, 'threshold': 7, 'applied': False, 'max_fused_qubits': 2}}, time_taken=0.002553229)], date=2024-03-02T15:40:48.471517, status=COMPLETED, header=None, metadata={'time_taken_parameter_binding': 2.5208e-05, 'max_memory_mb': 16384, 'time_taken_execute': 0.002910216, 'omp_enabled': True, 'max_gpu_memory_mb': 0, 'parallel_experiments': 1}, time_taken=0.00794219970703125)\n"
     ]
    }
   ],
   "source": [
    "print(result)"
   ]
  }
 ],
 "metadata": {
  "kernelspec": {
   "display_name": "qcenv",
   "language": "python",
   "name": "python3"
  },
  "language_info": {
   "codemirror_mode": {
    "name": "ipython",
    "version": 3
   },
   "file_extension": ".py",
   "mimetype": "text/x-python",
   "name": "python",
   "nbconvert_exporter": "python",
   "pygments_lexer": "ipython3",
   "version": "3.11.8"
  }
 },
 "nbformat": 4,
 "nbformat_minor": 2
}
