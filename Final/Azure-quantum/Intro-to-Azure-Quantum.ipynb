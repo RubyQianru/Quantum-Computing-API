{
 "cells": [
  {
   "cell_type": "markdown",
   "metadata": {},
   "source": [
    "# Intro to Azure Quantum\n",
    "\n",
    "### Resources\n",
    "\n",
    "- Main Documentation: [Azure Quantum documentation (preview)](https://learn.microsoft.com/en-us/azure/quantum/?WT.mc_id=Portal-HubsExtension)\n",
    "- [What is Azure Quantum?](https://learn.microsoft.com/en-us/azure/quantum/overview-azure-quantum)\n",
    "- [How to submit a circuit with Qiskit to Azure Quantum](https://learn.microsoft.com/en-us/azure/quantum/quickstart-microsoft-qiskit?tabs=tabid-ionq&pivots=platform-portal)\n",
    "- Try it out online: [Learn quantum computing with Azure Quantum](https://quantum.microsoft.com/en-us/experience/quantum-coding)\n",
    "\n",
    "### Pricing\n",
    "- $200 free credits for first two months. Reference: [Pricing](https://azure.microsoft.com/free/)\n",
    "-  **Developer** $29/month for individuals or teams looking to quickly and effectively get started on Azure, technical support is available weekdays from 9:00 AM to 5:00 PM with initial response times under 8 business hours. \n"
   ]
  },
  {
   "cell_type": "code",
   "execution_count": 4,
   "metadata": {},
   "outputs": [],
   "source": [
    "import azure.quantum\n",
    "from qiskit import QuantumCircuit\n",
    "from qiskit.visualization import plot_histogram\n",
    "from azure.quantum.qiskit import AzureQuantumProvider"
   ]
  },
  {
   "cell_type": "code",
   "execution_count": 5,
   "metadata": {},
   "outputs": [],
   "source": [
    "from azure.quantum import Workspace\n",
    "\n",
    "workspace = Workspace ( \n",
    "    resource_id = \"/subscriptions/bb7d82f6-5626-486b-8e29-835b0d417e07/resourceGroups/AzureQuantum/providers/Microsoft.Quantum/Workspaces/Tester\", # Add your resource_id \n",
    "    location = \"East US\"  # Add your workspace location (for example, \"westus\") \n",
    ")\n",
    "\n",
    "provider = AzureQuantumProvider(workspace)"
   ]
  },
  {
   "cell_type": "code",
   "execution_count": 6,
   "metadata": {},
   "outputs": [
    {
     "name": "stdout",
     "output_type": "stream",
     "text": [
      "This workspace's targets:\n",
      "- ionq.simulator\n",
      "- ionq.simulator\n",
      "- ionq.simulator\n",
      "- ionq.qpu\n",
      "- ionq.qpu\n",
      "- ionq.qpu\n",
      "- ionq.qpu.aria-1\n",
      "- ionq.qpu.aria-1\n",
      "- ionq.qpu.aria-1\n",
      "- ionq.qpu.aria-2\n",
      "- ionq.qpu.aria-2\n",
      "- ionq.qpu.aria-2\n",
      "- quantinuum.sim.h1-1sc\n",
      "- quantinuum.sim.h1-1sc\n",
      "- quantinuum.sim.h1-1e\n",
      "- quantinuum.sim.h1-1e\n",
      "- quantinuum.qpu.h1-1\n",
      "- quantinuum.qpu.h1-1\n",
      "- rigetti.sim.qvm\n",
      "- rigetti.qpu.ankaa-2\n",
      "- microsoft.estimator\n"
     ]
    }
   ],
   "source": [
    "print(\"This workspace's targets:\")\n",
    "for backend in provider.backends():\n",
    "    print(\"- \" + backend.name())"
   ]
  },
  {
   "cell_type": "code",
   "execution_count": 7,
   "metadata": {},
   "outputs": [
    {
     "data": {
      "text/html": [
       "<pre style=\"word-wrap: normal;white-space: pre;background: #fff0;line-height: 1.1;font-family: &quot;Courier New&quot;,Courier,monospace\">     ┌───┐          ┌─┐      \n",
       "q_0: ┤ H ├──■───────┤M├──────\n",
       "     └───┘┌─┴─┐     └╥┘┌─┐   \n",
       "q_1: ─────┤ X ├──■───╫─┤M├───\n",
       "          └───┘┌─┴─┐ ║ └╥┘┌─┐\n",
       "q_2: ──────────┤ X ├─╫──╫─┤M├\n",
       "               └───┘ ║  ║ └╥┘\n",
       "c: 3/════════════════╩══╩══╩═\n",
       "                     0  1  2 </pre>"
      ],
      "text/plain": [
       "     ┌───┐          ┌─┐      \n",
       "q_0: ┤ H ├──■───────┤M├──────\n",
       "     └───┘┌─┴─┐     └╥┘┌─┐   \n",
       "q_1: ─────┤ X ├──■───╫─┤M├───\n",
       "          └───┘┌─┴─┐ ║ └╥┘┌─┐\n",
       "q_2: ──────────┤ X ├─╫──╫─┤M├\n",
       "               └───┘ ║  ║ └╥┘\n",
       "c: 3/════════════════╩══╩══╩═\n",
       "                     0  1  2 "
      ]
     },
     "execution_count": 7,
     "metadata": {},
     "output_type": "execute_result"
    }
   ],
   "source": [
    "# Create a Quantum Circuit acting on the q register\n",
    "circuit = QuantumCircuit(3, 3)\n",
    "circuit.name = \"Qiskit Sample - 3-qubit GHZ circuit\"\n",
    "circuit.h(0)\n",
    "circuit.cx(0, 1)\n",
    "circuit.cx(1, 2)\n",
    "circuit.measure([0,1,2], [0, 1, 2])\n",
    "\n",
    "# Print out the circuit\n",
    "circuit.draw()"
   ]
  },
  {
   "cell_type": "code",
   "execution_count": 8,
   "metadata": {},
   "outputs": [],
   "source": [
    "simulator_backend = provider.get_backend(\"ionq.simulator\")"
   ]
  },
  {
   "cell_type": "code",
   "execution_count": 9,
   "metadata": {},
   "outputs": [],
   "source": [
    "from qiskit import transpile\n",
    "circuit = transpile(circuit, simulator_backend)"
   ]
  },
  {
   "cell_type": "code",
   "execution_count": 10,
   "metadata": {},
   "outputs": [
    {
     "name": "stdout",
     "output_type": "stream",
     "text": [
      "Job id a97bec4c-fdb8-11ee-a660-acde48001122\n"
     ]
    }
   ],
   "source": [
    "job = simulator_backend.run(circuit, shots=100)\n",
    "job_id = job.id()\n",
    "print(\"Job id\", job_id)"
   ]
  },
  {
   "cell_type": "code",
   "execution_count": 11,
   "metadata": {},
   "outputs": [
    {
     "name": "stdout",
     "output_type": "stream",
     "text": [
      "........Result(backend_name='ionq.simulator', backend_version='1', qobj_id='Qiskit Sample - 3-qubit GHZ circuit', job_id='a97bec4c-fdb8-11ee-a660-acde48001122', success=True, results=[ExperimentResult(shots=100, success=True, meas_level=2, data=ExperimentResultData(counts={'000': 51, '111': 49}, probabilities=defaultdict(<class 'int'>, {'000': 0.5, '111': 0.5})), header=QobjExperimentHeader(meas_map='[0, 1, 2]', metadata={}, name='Qiskit Sample - 3-qubit GHZ circuit', num_qubits='3', qiskit='True'))], date=None, status=None, header=None, error_data=None)\n"
     ]
    }
   ],
   "source": [
    "result = job.result()\n",
    "print(result)"
   ]
  },
  {
   "cell_type": "code",
   "execution_count": 12,
   "metadata": {},
   "outputs": [
    {
     "name": "stdout",
     "output_type": "stream",
     "text": [
      "{'000': 51, '001': 0, '010': 0, '011': 0, '100': 0, '101': 0, '110': 0, '111': 49}\n"
     ]
    },
    {
     "data": {
      "image/png": "[encoded data removed]",
      "text/plain": [
       "<Figure size 700x500 with 1 Axes>"
      ]
     },
     "execution_count": 12,
     "metadata": {},
     "output_type": "execute_result"
    }
   ],
   "source": [
    "counts = {format(n, \"03b\"): 0 for n in range(8)}\n",
    "counts.update(result.get_counts(circuit))\n",
    "print(counts)\n",
    "plot_histogram(counts)"
   ]
  },
  {
   "cell_type": "code",
   "execution_count": 18,
   "metadata": {},
   "outputs": [
    {
     "name": "stdout",
     "output_type": "stream",
     "text": [
      "Estimated cost: 1.0\n"
     ]
    }
   ],
   "source": [
    "backend = provider.get_backend(\"ionq.qpu\")\n",
    "cost = backend.estimate_cost(circuit, shots=28)\n",
    "\n",
    "print(f\"Estimated cost: {cost.estimated_total}\")"
   ]
  },
  {
   "cell_type": "code",
   "execution_count": 14,
   "metadata": {},
   "outputs": [],
   "source": [
    "qpu_backend = provider.get_backend(\"rigetti.qpu.ankaa-2\")"
   ]
  },
  {
   "cell_type": "code",
   "execution_count": 15,
   "metadata": {},
   "outputs": [
    {
     "name": "stdout",
     "output_type": "stream",
     "text": [
      "Job id b1bfbb40-fdb8-11ee-a660-acde48001122\n",
      "..........Result(backend_name='rigetti.qpu.ankaa-2', backend_version='1', qobj_id='Qiskit Sample - 3-qubit GHZ circuit', job_id='b1bfbb40-fdb8-11ee-a660-acde48001122', success=True, results=[ExperimentResult(shots=28, success=True, meas_level=2, data=ExperimentResultData(counts={'111': 7.0, '000': 11.0, '011': 1.0, '101': 4.0, '110': 2.0, '001': 3.0}, probabilities={'111': 0.25, '000': 0.39285714285714285, '011': 0.03571428571428571, '101': 0.14285714285714285, '110': 0.07142857142857142, '001': 0.10714285714285714}), header=QobjExperimentHeader(metadata={}, name='Qiskit Sample - 3-qubit GHZ circuit', num_qubits='3', qiskit='True'))], date=None, status=None, header=None, error_data=None)\n",
      "{'000': 11.0, '001': 3.0, '010': 0, '011': 1.0, '100': 0, '101': 4.0, '110': 2.0, '111': 7.0}\n"
     ]
    },
    {
     "data": {
      "image/png": "[encoded data removed]",
      "text/plain": [
       "<Figure size 700x500 with 1 Axes>"
      ]
     },
     "execution_count": 15,
     "metadata": {},
     "output_type": "execute_result"
    }
   ],
   "source": [
    "# Submit the circuit to run on Azure Quantum\n",
    "job = qpu_backend.run(circuit, shots=28)\n",
    "job_id = job.id()\n",
    "print(\"Job id\", job_id)\n",
    "\n",
    "# Get the job results (this method waits for the Job to complete):\n",
    "result = job.result()\n",
    "print(result)\n",
    "counts = {format(n, \"03b\"): 0 for n in range(8)}\n",
    "counts.update(result.get_counts(circuit))\n",
    "print(counts)\n",
    "plot_histogram(counts)"
   ]
  }
 ],
 "metadata": {
  "kernelspec": {
   "display_name": "qc_old",
   "language": "python",
   "name": "python3"
  },
  "language_info": {
   "codemirror_mode": {
    "name": "ipython",
    "version": 3
   },
   "file_extension": ".py",
   "mimetype": "text/x-python",
   "name": "python",
   "nbconvert_exporter": "python",
   "pygments_lexer": "ipython3",
   "version": "3.8.18"
  }
 },
 "nbformat": 4,
 "nbformat_minor": 2
}
